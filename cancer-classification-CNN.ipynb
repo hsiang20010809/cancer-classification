{
 "cells": [
  {
   "cell_type": "markdown",
   "metadata": {},
   "source": [
    "<a href=\"https://www.kaggle.com/code/chihsiangliao/cancer-classification-cnn?scriptVersionId=213459508\" target=\"_blank\"><img align=\"left\" alt=\"Kaggle\" title=\"Open in Kaggle\" src=\"https://kaggle.com/static/images/open-in-kaggle.svg\"></a>"
   ]
  },
  {
   "cell_type": "code",
   "execution_count": 2,
   "metadata": {
    "_cell_guid": "b1076dfc-b9ad-4769-8c92-a6c4dae69d19",
    "_uuid": "8f2839f25d086af736a60e9eeb907d3b93b6e0e5",
    "trusted": true
   },
   "outputs": [
    {
     "name": "stdout",
     "output_type": "stream",
     "text": [
      "Training samples: 6466\n",
      "Test samples: 3509\n",
      "Class distribution - Benign: 3125, Malignant: 6850\n",
      "Number of classes: 2\n",
      "Using device: cuda\n"
     ]
    },
    {
     "name": "stderr",
     "output_type": "stream",
     "text": [
      "Epoch 1/10: 100%|██████████| 203/203 [00:56<00:00,  3.60it/s]\n",
      "Epoch 1/10: 100%|██████████| 203/203 [00:56<00:00,  3.60it/s]\n"
     ]
    },
    {
     "name": "stdout",
     "output_type": "stream",
     "text": [
      "Epoch 1, Loss: 0.6649948901730806\n"
     ]
    },
    {
     "name": "stderr",
     "output_type": "stream",
     "text": [
      "Epoch 2/10: 100%|██████████| 203/203 [00:56<00:00,  3.61it/s]\n",
      "Epoch 2/10: 100%|██████████| 203/203 [00:56<00:00,  3.61it/s]\n"
     ]
    },
    {
     "name": "stdout",
     "output_type": "stream",
     "text": [
      "Epoch 2, Loss: 0.5224636219111569\n"
     ]
    },
    {
     "name": "stderr",
     "output_type": "stream",
     "text": [
      "Epoch 3/10: 100%|██████████| 203/203 [00:56<00:00,  3.58it/s]\n",
      "Epoch 3/10: 100%|██████████| 203/203 [00:56<00:00,  3.58it/s]\n"
     ]
    },
    {
     "name": "stdout",
     "output_type": "stream",
     "text": [
      "Epoch 3, Loss: 0.5213248019147976\n"
     ]
    },
    {
     "name": "stderr",
     "output_type": "stream",
     "text": [
      "Epoch 4/10: 100%|██████████| 203/203 [01:28<00:00,  2.28it/s]\n",
      "Epoch 4/10: 100%|██████████| 203/203 [01:28<00:00,  2.28it/s]\n"
     ]
    },
    {
     "name": "stdout",
     "output_type": "stream",
     "text": [
      "Epoch 4, Loss: 0.47512632314794756\n"
     ]
    },
    {
     "name": "stderr",
     "output_type": "stream",
     "text": [
      "Epoch 5/10: 100%|██████████| 203/203 [01:02<00:00,  3.23it/s]\n",
      "Epoch 5/10: 100%|██████████| 203/203 [01:02<00:00,  3.23it/s]\n"
     ]
    },
    {
     "name": "stdout",
     "output_type": "stream",
     "text": [
      "Epoch 5, Loss: 0.45179099417085133\n"
     ]
    },
    {
     "name": "stderr",
     "output_type": "stream",
     "text": [
      "Epoch 6/10: 100%|██████████| 203/203 [00:56<00:00,  3.59it/s]\n",
      "Epoch 6/10: 100%|██████████| 203/203 [00:56<00:00,  3.59it/s]\n"
     ]
    },
    {
     "name": "stdout",
     "output_type": "stream",
     "text": [
      "Epoch 6, Loss: 0.42247932668536753\n"
     ]
    },
    {
     "name": "stderr",
     "output_type": "stream",
     "text": [
      "Epoch 7/10: 100%|██████████| 203/203 [00:56<00:00,  3.58it/s]\n",
      "Epoch 7/10: 100%|██████████| 203/203 [00:56<00:00,  3.58it/s]\n"
     ]
    },
    {
     "name": "stdout",
     "output_type": "stream",
     "text": [
      "Epoch 7, Loss: 0.3981737846685252\n"
     ]
    },
    {
     "name": "stderr",
     "output_type": "stream",
     "text": [
      "Epoch 8/10: 100%|██████████| 203/203 [00:57<00:00,  3.53it/s]\n",
      "Epoch 8/10: 100%|██████████| 203/203 [00:57<00:00,  3.53it/s]\n"
     ]
    },
    {
     "name": "stdout",
     "output_type": "stream",
     "text": [
      "Epoch 8, Loss: 0.37014745484138356\n"
     ]
    },
    {
     "name": "stderr",
     "output_type": "stream",
     "text": [
      "Epoch 9/10: 100%|██████████| 203/203 [00:57<00:00,  3.54it/s]\n",
      "Epoch 9/10: 100%|██████████| 203/203 [00:57<00:00,  3.54it/s]\n"
     ]
    },
    {
     "name": "stdout",
     "output_type": "stream",
     "text": [
      "Epoch 9, Loss: 0.3113307864198764\n"
     ]
    },
    {
     "name": "stderr",
     "output_type": "stream",
     "text": [
      "Epoch 10/10: 100%|██████████| 203/203 [01:03<00:00,  3.21it/s]\n",
      "\n"
     ]
    },
    {
     "name": "stdout",
     "output_type": "stream",
     "text": [
      "Epoch 10, Loss: 0.304165428274958\n",
      "              precision    recall  f1-score   support\n",
      "\n",
      "      Benign       0.81      0.87      0.84      1160\n",
      "   Malignant       0.93      0.90      0.92      2349\n",
      "\n",
      "    accuracy                           0.89      3509\n",
      "   macro avg       0.87      0.89      0.88      3509\n",
      "weighted avg       0.89      0.89      0.89      3509\n",
      "\n",
      "              precision    recall  f1-score   support\n",
      "\n",
      "      Benign       0.81      0.87      0.84      1160\n",
      "   Malignant       0.93      0.90      0.92      2349\n",
      "\n",
      "    accuracy                           0.89      3509\n",
      "   macro avg       0.87      0.89      0.88      3509\n",
      "weighted avg       0.89      0.89      0.89      3509\n",
      "\n"
     ]
    },
    {
     "data": {
      "image/png": "[encoded data removed]",
      "text/plain": [
       "<Figure size 800x600 with 2 Axes>"
      ]
     },
     "metadata": {},
     "output_type": "display_data"
    },
    {
     "name": "stdout",
     "output_type": "stream",
     "text": [
      "=== CNN 模型詳細效能指標 ===\n",
      "整體準確率: 0.8917 (89.17%)\n",
      "\n",
      "良性腫瘤:\n",
      "精確率: 0.8140 (81.40%)\n",
      "召回率: 0.8716 (87.16%)\n",
      "F1-score: 0.8418\n",
      "\n",
      "惡性腫瘤:\n",
      "精確率: 0.9343 (93.43%)\n",
      "召回率: 0.9017 (90.17%)\n",
      "F1-score: 0.9177\n",
      "\n",
      "=== 醫療意義分析 ===\n",
      "假陰性(漏診惡性): 231 例 (9.83%)\n",
      "假陽性(誤診良性為惡性): 149 例 (12.84%)\n",
      "真陽性(正確診斷惡性): 2118 例\n",
      "真陰性(正確診斷良性): 1011 例\n"
     ]
    }
   ],
   "source": [
    "import cv2\n",
    "import torch\n",
    "import numpy as np\n",
    "import pandas as pd\n",
    "from torch.utils.data import Dataset, DataLoader\n",
    "import os\n",
    "#import CNN model\n",
    "import torch\n",
    "import torch.nn as nn\n",
    "import torch.optim as optim\n",
    "from sklearn.metrics import classification_report\n",
    "from tqdm import tqdm\n",
    "# Load data\n",
    "file_path = r'C:\\Users\\user\\Desktop\\folder\\cancer-classification-main\\Folds.csv'\n",
    "data = pd.read_csv(file_path)\n",
    "\n",
    "# derive 'label' from the 'filename' column\n",
    "data['label'] = data['filename'].apply(lambda x: 0 if 'benign' in x else 1)\n",
    "# filter data for magnification(mag) == 40\n",
    "data = data[data['mag'] == 40]\n",
    "\n",
    "#prepare dataset\n",
    "#parameters\n",
    "target_size = (224, 224) #target size for CNN input\n",
    "# Define the base path for images - data is in archive/BreaKHis_v1 folder (nested structure)\n",
    "base_image_path = r'C:\\Users\\user\\Desktop\\folder\\cancer-classification-main\\archive\\BreaKHis_v1'\n",
    "\n",
    "#Dataset class for train and test\n",
    "class BreastCancerDataset(Dataset):\n",
    "    def __init__(self, dataframe, target_size, base_path):\n",
    "        self.dataframe = dataframe\n",
    "        self.target_size = target_size\n",
    "        self.base_path = base_path\n",
    "\n",
    "    def __len__(self):\n",
    "        return len(self.dataframe)\n",
    "    \n",
    "    def __getitem__(self, idx):\n",
    "        row = self.dataframe.iloc[idx]\n",
    "        relative_img_path = row['filename']\n",
    "        # Construct the full image path and normalize path separators\n",
    "        img_path = os.path.join(self.base_path, relative_img_path)\n",
    "        img_path = os.path.normpath(img_path)  # Convert forward slashes to backslashes on Windows\n",
    "        label = row['label']\n",
    "    \n",
    "        #load image\n",
    "        img = cv2.imread(img_path)\n",
    "        if img is None:\n",
    "            # Try to find the image with a debug print\n",
    "            print(f\"Debug: Looking for image at: {img_path}\")\n",
    "            print(f\"Debug: File exists: {os.path.exists(img_path)}\")\n",
    "            if os.path.exists(os.path.dirname(img_path)):\n",
    "                print(f\"Debug: Directory exists, files in directory: {os.listdir(os.path.dirname(img_path))[:5]}\")\n",
    "            raise FileNotFoundError(f\"Image not found: {img_path}\")\n",
    "        \n",
    "        #Resize and preprocess\n",
    "        img = cv2.resize(img, self.target_size)\n",
    "        img = cv2.cvtColor(img, cv2.COLOR_BGR2RGB) # convert to RGB\n",
    "        img = img / 255.0 # Normalize to [0, 1]\n",
    "        img = np.transpose(img, (2, 0, 1)) # Convert to (C, H, W)\n",
    "\n",
    "        #convert to tensor\n",
    "        img_tensor = torch.tensor(img, dtype=torch.float32)\n",
    "        label_tensor = torch.tensor(label, dtype=torch.long)\n",
    "\n",
    "        return img_tensor, label_tensor\n",
    "    \n",
    "# Split data into train and test based on 'grp'\n",
    "train_df = data[data['grp'] == 'train']\n",
    "test_df = data[data['grp'] == 'test']\n",
    "\n",
    "print(f\"Training samples: {len(train_df)}\")\n",
    "print(f\"Test samples: {len(test_df)}\")\n",
    "print(f\"Class distribution - Benign: {sum(data['label'] == 0)}, Malignant: {sum(data['label'] == 1)}\")\n",
    "\n",
    "# Create train and test datasets\n",
    "train_dataset = BreastCancerDataset(train_df, target_size, base_image_path)\n",
    "test_dataset = BreastCancerDataset(test_df, target_size, base_image_path)\n",
    "\n",
    "# Create DataLoaders\n",
    "train_loader = DataLoader(train_dataset, batch_size=32, shuffle=True)\n",
    "test_loader = DataLoader(test_dataset, batch_size=32, shuffle=False)\n",
    "\n",
    "#Define CNN model\n",
    "class CNNModel(nn.Module):\n",
    "    def __init__(self, num_classes):\n",
    "        super(CNNModel, self).__init__()\n",
    "        self.conv1 = nn.Conv2d(3, 32, kernel_size=3, stride=1, padding=1)\n",
    "        self.conv2 = nn.Conv2d(32, 64, kernel_size=3, stride=1, padding=1)\n",
    "        self.pool = nn.MaxPool2d(kernel_size=2, stride=2)\n",
    "        self.fc1 = nn.Linear(64* 56 * 56, 128) # Adjust according to input size\n",
    "        self.fc2 = nn.Linear(128, num_classes)\n",
    "        self.relu = nn.ReLU()\n",
    "        self.dropout = nn.Dropout(0.5)\n",
    "\n",
    "    def forward(self, x):\n",
    "        x = self.pool(self.relu(self.conv1(x)))\n",
    "        x = self.pool(self.relu(self.conv2(x)))\n",
    "        x = x.view(x.size(0), -1) # Flatten the feature map\n",
    "        x = self.relu(self.fc1(x))\n",
    "        x = self.dropout(x)\n",
    "        x = self.fc2(x)\n",
    "        return x\n",
    "    \n",
    "# Initialize the model, loss function, and optimizer\n",
    "num_classes = 2  # Binary classification: benign (0) vs malignant (1)\n",
    "print(f'Number of classes: {num_classes}')\n",
    "model = CNNModel(num_classes)\n",
    "criterion = nn.CrossEntropyLoss()\n",
    "optimizer = optim.Adam(model.parameters(), lr=0.001)\n",
    "\n",
    "# Move the model to GPU if available\n",
    "device = torch.device(\"cuda\" if torch.cuda.is_available() else \"cpu\")\n",
    "print(f'Using device: {device}')\n",
    "model.to(device)\n",
    "\n",
    "#Training function\n",
    "def train_model(model, train_loader, criterion, optimizer, epochs):\n",
    "    model.train()\n",
    "    for epoch in range(epochs):\n",
    "        running_loss = 0.0\n",
    "        for images, labels in tqdm(train_loader, desc=f\"Epoch {epoch+1}/{epochs}\"):\n",
    "            images, labels = images.to(device), labels.to(device)\n",
    "\n",
    "            #zero the parameter gradients\n",
    "            optimizer.zero_grad()\n",
    "\n",
    "            # forward + backward + optimize\n",
    "            outputs = model(images)\n",
    "            loss = criterion(outputs, labels)\n",
    "            loss.backward()\n",
    "            optimizer.step()\n",
    "\n",
    "            running_loss += loss.item()\n",
    "\n",
    "        print(f\"Epoch {epoch+1}, Loss: {running_loss / len(train_loader)}\")\n",
    "\n",
    "epochs = 10\n",
    "train_model(model, train_loader, criterion, optimizer, epochs)\n",
    "\n",
    "\n",
    "# Evaluation function\n",
    "def evaluate_model(model, test_loader):\n",
    "    model.eval()\n",
    "    all_preds = []\n",
    "    all_labels = []\n",
    "    with torch.no_grad():\n",
    "        for images, labels in test_loader:\n",
    "            images, labels = images.to(device), labels.to(device)\n",
    "            outputs = model(images)\n",
    "            _, preds = torch.max(outputs, 1)\n",
    "            all_preds.extend(preds.cpu().numpy())\n",
    "            all_labels.extend(labels.cpu().numpy())\n",
    "    return all_labels, all_preds\n",
    "\n",
    "# Evaluate the model\n",
    "y_test, y_pred = evaluate_model(model, test_loader)\n",
    "\n",
    "target_names = ['Benign', 'Malignant'] # define label name (fixed typo)\n",
    "print(classification_report(y_test, y_pred, target_names=target_names))\n",
    "\n",
    "# Additional analysis and visualization\n",
    "import matplotlib.pyplot as plt\n",
    "import seaborn as sns\n",
    "from sklearn.metrics import confusion_matrix, roc_auc_score, roc_curve\n",
    "from sklearn.metrics import accuracy_score, precision_score, recall_score, f1_score\n",
    "\n",
    "# Generate confusion matrix\n",
    "cm = confusion_matrix(y_test, y_pred)\n",
    "plt.figure(figsize=(8, 6))\n",
    "sns.heatmap(cm, annot=True, fmt='d', cmap='Blues', \n",
    "            xticklabels=['Benign', 'Malignant'], \n",
    "            yticklabels=['Benign', 'Malignant'])\n",
    "plt.title('Confusion Matrix - CNN Model')\n",
    "plt.ylabel('True Label')\n",
    "plt.xlabel('Predicted Label')\n",
    "plt.show()\n",
    "\n",
    "# Calculate additional metrics\n",
    "accuracy = accuracy_score(y_test, y_pred)\n",
    "precision_benign = precision_score(y_test, y_pred, pos_label=0)\n",
    "precision_malignant = precision_score(y_test, y_pred, pos_label=1)\n",
    "recall_benign = recall_score(y_test, y_pred, pos_label=0)\n",
    "recall_malignant = recall_score(y_test, y_pred, pos_label=1)\n",
    "f1_benign = f1_score(y_test, y_pred, pos_label=0)\n",
    "f1_malignant = f1_score(y_test, y_pred, pos_label=1)\n",
    "\n",
    "print(\"=== CNN 模型詳細效能指標 ===\")\n",
    "print(f\"整體準確率: {accuracy:.4f} ({accuracy*100:.2f}%)\")\n",
    "print(f\"\\n良性腫瘤:\")\n",
    "print(f\"精確率: {precision_benign:.4f} ({precision_benign*100:.2f}%)\")\n",
    "print(f\"召回率: {recall_benign:.4f} ({recall_benign*100:.2f}%)\")\n",
    "print(f\"F1-score: {f1_benign:.4f}\")\n",
    "print(f\"\\n惡性腫瘤:\")\n",
    "print(f\"精確率: {precision_malignant:.4f} ({precision_malignant*100:.2f}%)\")\n",
    "print(f\"召回率: {recall_malignant:.4f} ({recall_malignant*100:.2f}%)\")\n",
    "print(f\"F1-score: {f1_malignant:.4f}\")\n",
    "\n",
    "# Medical significance\n",
    "print(f\"\\n=== 醫療意義分析 ===\")\n",
    "print(f\"假陰性(漏診惡性): {cm[1,0]} 例 ({cm[1,0]/np.sum(cm[1,:])*100:.2f}%)\")\n",
    "print(f\"假陽性(誤診良性為惡性): {cm[0,1]} 例 ({cm[0,1]/np.sum(cm[0,:])*100:.2f}%)\")\n",
    "print(f\"真陽性(正確診斷惡性): {cm[1,1]} 例\")\n",
    "print(f\"真陰性(正確診斷良性): {cm[0,0]} 例\")"
   ]
  }
 ],
 "metadata": {
  "kaggle": {
   "accelerator": "none",
   "dataSources": [
    {
     "datasetId": 209316,
     "sourceId": 999617,
     "sourceType": "datasetVersion"
    }
   ],
   "isGpuEnabled": false,
   "isInternetEnabled": true,
   "language": "python",
   "sourceType": "notebook"
  },
  "kernelspec": {
   "display_name": "Python 3",
   "language": "python",
   "name": "python3"
  },
  "language_info": {
   "codemirror_mode": {
    "name": "ipython",
    "version": 3
   },
   "file_extension": ".py",
   "mimetype": "text/x-python",
   "name": "python",
   "nbconvert_exporter": "python",
   "pygments_lexer": "ipython3",
   "version": "3.11.6"
  }
 },
 "nbformat": 4,
 "nbformat_minor": 4
}
